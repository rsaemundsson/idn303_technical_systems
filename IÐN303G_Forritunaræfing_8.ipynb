{
 "cells": [
  {
   "cell_type": "markdown",
   "id": "823bf75f",
   "metadata": {},
   "source": [
    "# IÐN303G Tæknileg kerfi - Forritunaræfing 8"
   ]
  },
  {
   "cell_type": "markdown",
   "id": "7848e9d3",
   "metadata": {},
   "source": [
    "## Inngangur\n",
    "Markmiðið með þessari æfingu er að kynnast aðferðum til að meta eiginleika sjálfvirkra stýrikerfa og nota þær til að meta áhrif mögnunar í lykkjunni.\n",
    "\n",
    "Gefið er sjálfvirkt stýrikerfi sem má lýsa með eftirfarandi blokkriti.\n",
    "\n",
    "<div>\n",
    "<img src=\"https://github.com/rsaemundsson/idn303_technical_systems/blob/main/automatic_control_system.png?raw=true\", width=600>\n",
    "\n",
    "Æfingin felst í eftirfarandi:\n",
    "\n",
    "1. Metið eftirfarandi eiginleika kerfisins fyrir K=1:\n",
    "    * Stöðugleika\n",
    "    * Skekkju í jafnvægi\n",
    "    * Hraða svörunar\n",
    "    * Deyfingu vegna truflana\n",
    "    * Næmni fyrir breytileika\n",
    "    * Stærð stýrimerkis\n",
    "2. Skoðið áhrif þess að setja K=0.01 og K=2."
   ]
  },
  {
   "cell_type": "code",
   "execution_count": 129,
   "id": "76c37693",
   "metadata": {},
   "outputs": [],
   "source": [
    "# Hlaða inn þeim forritasöfnum sem þarf að hlaða inn\n",
    "import numpy as np\n",
    "import control as ct\n",
    "import matplotlib.pyplot as plt\n",
    "\n",
    "# Yfirfærsluföll\n",
    "K = 1\n"
   ]
  },
  {
   "cell_type": "code",
   "execution_count": 131,
   "id": "5b808bee",
   "metadata": {},
   "outputs": [],
   "source": [
    "#Stöðugleiki (bode rit, margin, pzmap)"
   ]
  },
  {
   "cell_type": "code",
   "execution_count": 132,
   "id": "2d53d63b",
   "metadata": {},
   "outputs": [],
   "source": [
    "#Skekkja milli óskgildis og úttaks í jafnvægi (þrepa- og flábreytingar í r, v og w)"
   ]
  },
  {
   "cell_type": "code",
   "execution_count": 133,
   "id": "63aa748d",
   "metadata": {},
   "outputs": [],
   "source": [
    "#Hraði svörunar (t_r)"
   ]
  },
  {
   "cell_type": "code",
   "execution_count": 134,
   "id": "6eae92bd",
   "metadata": {},
   "outputs": [],
   "source": [
    "#Dempun truflana (tíðnisvörun yfirfærslufalls milli truflana og úttaks)"
   ]
  },
  {
   "cell_type": "code",
   "execution_count": 135,
   "id": "721aa10b",
   "metadata": {},
   "outputs": [],
   "source": [
    "#Næmni fyrir breytileika (t.d. breyta mögnun í G_c úr 2 í 1)"
   ]
  },
  {
   "cell_type": "code",
   "execution_count": 136,
   "id": "811a16ef",
   "metadata": {},
   "outputs": [],
   "source": [
    "#Stýrimerki (áhrif breytinga í r,v og w á u)"
   ]
  }
 ],
 "metadata": {
  "kernelspec": {
   "display_name": "Python 3 (ipykernel)",
   "language": "python",
   "name": "python3"
  },
  "language_info": {
   "codemirror_mode": {
    "name": "ipython",
    "version": 3
   },
   "file_extension": ".py",
   "mimetype": "text/x-python",
   "name": "python",
   "nbconvert_exporter": "python",
   "pygments_lexer": "ipython3",
   "version": "3.9.7"
  }
 },
 "nbformat": 4,
 "nbformat_minor": 5
}
