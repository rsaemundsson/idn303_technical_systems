{
 "cells": [
  {
   "cell_type": "markdown",
   "id": "823bf75f",
   "metadata": {},
   "source": [
    "# IÐN303G Tæknileg kerfi - Forritunaræfing 9"
   ]
  },
  {
   "cell_type": "markdown",
   "id": "c4ae2af9",
   "metadata": {},
   "source": [
    "## Inngangur\n",
    "Markmiðið með þessari æfingu er að kynnast hönnun PID stýringa.\n",
    "\n",
    "Gefið er sjálfvirkt stýrikerfi sem má lýsa með eftirfarandi blokkriti.\n",
    "\n",
    "<div>\n",
    "<img src=\"https://github.com/rsaemundsson/idn303_technical_systems/blob/main/automatic_control_system_pid2.png?raw=true\", width=600>\n",
    "\n",
    "Til stendur að velja stýringu þannig að fasaöryggið sé $\\frac{\\pi}{3}$.\n",
    "\n",
    "1. Veljið gildi á $K$ og $T_D$ fyrir PD stýringu sem uppfyllir kröfur um fasaöryggi.  \n",
    "2. Veljið gildi á $K$, $T_D$, $T_I$ og $T_F$ fyrir PID stýringu sem uppfyllir kröfur um fasaöryggi.\n",
    "3. Berið saman stýringarnar með því að bera saman tíðnisvörun lykkjunnar, tímasvörun heildarkerfisins og skekkju í jafnvægi eftir breytingar í óskgildi og þrepatruflanir í kerfinu sem á að stýra ($G_p$). Hvað myndi réttlæta að velja PID stýringuna fram yfir PD stýringuna?"
   ]
  },
  {
   "cell_type": "code",
   "execution_count": 129,
   "id": "76c37693",
   "metadata": {},
   "outputs": [],
   "source": [
    "# Hlaða inn þeim forritasöfnum sem þarf að hlaða inn\n",
    "import numpy as np\n",
    "import control as ct\n",
    "import matplotlib.pyplot as plt\n",
    "\n",
    "# Yfirfærsluföll\n",
    "\n"
   ]
  },
  {
   "cell_type": "code",
   "execution_count": 131,
   "id": "5b808bee",
   "metadata": {},
   "outputs": [],
   "source": [
    "#PD stýring"
   ]
  },
  {
   "cell_type": "code",
   "execution_count": 132,
   "id": "2d53d63b",
   "metadata": {},
   "outputs": [],
   "source": [
    "#PID stýring"
   ]
  },
  {
   "cell_type": "code",
   "execution_count": 133,
   "id": "63aa748d",
   "metadata": {},
   "outputs": [],
   "source": [
    "#Samanburður"
   ]
  }
 ],
 "metadata": {
  "kernelspec": {
   "display_name": "Python 3 (ipykernel)",
   "language": "python",
   "name": "python3"
  },
  "language_info": {
   "codemirror_mode": {
    "name": "ipython",
    "version": 3
   },
   "file_extension": ".py",
   "mimetype": "text/x-python",
   "name": "python",
   "nbconvert_exporter": "python",
   "pygments_lexer": "ipython3",
   "version": "3.9.7"
  }
 },
 "nbformat": 4,
 "nbformat_minor": 5
}
