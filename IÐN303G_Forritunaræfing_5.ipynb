{
 "cells": [
  {
   "cell_type": "markdown",
   "id": "823bf75f",
   "metadata": {},
   "source": [
    "# IÐN303G Tæknileg kerfi - Forritunaræfing 5"
   ]
  },
  {
   "cell_type": "markdown",
   "id": "32d34514",
   "metadata": {},
   "source": [
    "## Inngangur\n",
    "Markmiðið með þessari æfingu er að þjálfast í skrifa forrit sem nota yfirfærsluföll við greiningu kerfa.\n",
    "\n",
    "Hér fyrir neðan eru tekin dæmi um hvernig hægt er að nota control forritasafnið (e. library) til að skilgreina yfirfærsluföll og vinna með þau.\n",
    "\n",
    "Þið eigið að greina kerfið úr forritunaræfingu 1/prófinu (tankur) með aðstoð yfirfærslufalla. \n",
    "\n",
    "Verkefnið er þríþætt:\n",
    "\n",
    "1. Finna yfirfærslufall fyrir hvern hluta kerfisins.\n",
    "2. Finna, með aðstoð control forritasafnsins, yfirfærslufall milli útflæðis ($q$) og vatnshæðar ($h$).\n",
    "3. Teikna tímasvörun og tíðnisvörun yfirfærslufallsins úr 2).\n",
    "\n",
    "Þið getið borið saman niðurstöðuna ykkar við niðurstöðuna í forritunarverkefni 1 og í prófinu.\n",
    "\n",
    "Ef tími vinnst til má gera sambærilega greiningu fyrir yfirfærslufallið milli óskgildis ($r$) og vatnshæðar ($h$)."
   ]
  },
  {
   "cell_type": "code",
   "execution_count": null,
   "id": "449844ff",
   "metadata": {},
   "outputs": [],
   "source": [
    "!pip install control"
   ]
  },
  {
   "cell_type": "code",
   "execution_count": 1,
   "id": "052f2843",
   "metadata": {},
   "outputs": [],
   "source": [
    "import numpy as np\n",
    "import matplotlib.pyplot as plt\n",
    "import control as ct"
   ]
  },
  {
   "cell_type": "code",
   "execution_count": null,
   "id": "76c37693",
   "metadata": {},
   "outputs": [],
   "source": [
    "# Hér skrifið þið ykkar kóða. Byrjið á að skoða dæmin hér fyrir neðan og notið það sem við á.\n",
    "\n",
    "# Skilgreina yfirfærsluföll allra hluta kerfisins\n",
    "\n",
    "# Yfirfærslufall milli útflæðis og vatnshæðar\n",
    "\n",
    "# Teikna tímasvörun og tíðnisvörun\n",
    "\n",
    "# Yfirfærslufall milli óskgildis og vatnshæðar\n",
    "\n",
    "# Teikna tímasvörun og tíðnisvörun"
   ]
  },
  {
   "cell_type": "markdown",
   "id": "da96e02d",
   "metadata": {},
   "source": [
    "Í control forritasafninu eru föll þar sem hægt er að skilgreina yfirfærsluföll. Til dæmis eru\n",
    "\n",
    "\\begin{equation}\n",
    "G_1(s)=\\frac{3}{4s^2+s+1}\n",
    "\\end{equation}\n",
    "\n",
    "og\n",
    "\n",
    "\\begin{equation}\n",
    "G_2(s)=\\frac{4.3}{1.6s+1}\n",
    "\\end{equation}\n",
    "\n",
    "skilgreind á eftirfarandi hátt."
   ]
  },
  {
   "cell_type": "code",
   "execution_count": 6,
   "id": "c9fa861c",
   "metadata": {},
   "outputs": [
    {
     "name": "stdout",
     "output_type": "stream",
     "text": [
      "\n",
      "      3\n",
      "-------------\n",
      "4 s^2 + s + 1\n",
      "\n",
      "\n",
      "   4.3\n",
      "---------\n",
      "1.6 s + 1\n",
      "\n"
     ]
    }
   ],
   "source": [
    "G1=ct.tf([3.],[4.,1.,1.])\n",
    "G2=ct.tf([4.3],[1.6,1.])\n",
    "print(G1)\n",
    "print(G2)"
   ]
  },
  {
   "cell_type": "markdown",
   "id": "97c43852",
   "metadata": {},
   "source": [
    "Hægt er að tengja saman yfirfærsluföll, hvort heldur sem þau eru raðtengd, hliðtengd eða tengd með afturvirkni.\n",
    "\n",
    "Ef föllin eru raðtengd þá eru þau margfölduð saman og ef þau eru hliðtengd má eru þau lögð saman. Það má líka nota\n",
    "skipanirnar $series$ eða $parallel$. Ef föllin eru tengd saman með afturvirkni er notuð skipunin $feedback$."
   ]
  },
  {
   "cell_type": "code",
   "execution_count": 9,
   "id": "66b7e9ca",
   "metadata": {},
   "outputs": [
    {
     "name": "stdout",
     "output_type": "stream",
     "text": [
      "\n",
      "            12.9\n",
      "-----------------------------\n",
      "6.4 s^3 + 5.6 s^2 + 2.6 s + 1\n",
      "\n",
      "\n",
      "            12.9\n",
      "-----------------------------\n",
      "6.4 s^3 + 5.6 s^2 + 2.6 s + 1\n",
      "\n"
     ]
    }
   ],
   "source": [
    "print(G1*G2)\n",
    "print(ct.series(G1,G2))"
   ]
  },
  {
   "cell_type": "code",
   "execution_count": 10,
   "id": "81bafd75",
   "metadata": {},
   "outputs": [
    {
     "name": "stdout",
     "output_type": "stream",
     "text": [
      "\n",
      "   17.2 s^2 + 9.1 s + 7.3\n",
      "-----------------------------\n",
      "6.4 s^3 + 5.6 s^2 + 2.6 s + 1\n",
      "\n",
      "\n",
      "   17.2 s^2 + 9.1 s + 7.3\n",
      "-----------------------------\n",
      "6.4 s^3 + 5.6 s^2 + 2.6 s + 1\n",
      "\n"
     ]
    }
   ],
   "source": [
    "print(G1+G2)\n",
    "print(ct.parallel(G1,G2))"
   ]
  },
  {
   "cell_type": "code",
   "execution_count": 18,
   "id": "5f8be445",
   "metadata": {
    "scrolled": true
   },
   "outputs": [
    {
     "name": "stdout",
     "output_type": "stream",
     "text": [
      "\n",
      "           4.8 s + 3\n",
      "--------------------------------\n",
      "6.4 s^3 + 5.6 s^2 + 2.6 s + 13.9\n",
      "\n"
     ]
    }
   ],
   "source": [
    "print(ct.feedback(G1,G2))"
   ]
  },
  {
   "cell_type": "markdown",
   "id": "193aaf9b",
   "metadata": {},
   "source": [
    "Á einfaldan hátt má skoða tímasvörun yfirfærslufalls, þ.e. svörun við einingaþrepafalli."
   ]
  },
  {
   "cell_type": "code",
   "execution_count": 61,
   "id": "59916a66",
   "metadata": {},
   "outputs": [
    {
     "data": {
      "text/plain": [
       "Text(0, 0.5, 'útslag')"
      ]
     },
     "execution_count": 61,
     "metadata": {},
     "output_type": "execute_result"
    },
    {
     "data": {
      "image/png": "[encoded data removed]",
      "text/plain": [
       "<Figure size 432x288 with 1 Axes>"
      ]
     },
     "metadata": {
      "needs_background": "light"
     },
     "output_type": "display_data"
    }
   ],
   "source": [
    "t,y = ct.step_response(G1)\n",
    "plt.plot(t,y)\n",
    "plt.grid()\n",
    "plt.xlabel('sek')\n",
    "plt.ylabel('útslag')"
   ]
  },
  {
   "cell_type": "markdown",
   "id": "d7bee5ee",
   "metadata": {},
   "source": [
    "Einnig má finna tíðnisvörun yfirfærslufalls og birta í svkölluðum Bode ritum sem sýna útslag og fasa sem fall af\n",
    "horntíðni (rad/sek). Venjan er að hafa útslag og horntíðni á logaritmiskum kvarða. Meira um það síðar."
   ]
  },
  {
   "cell_type": "code",
   "execution_count": 95,
   "id": "b80e9385",
   "metadata": {
    "scrolled": true
   },
   "outputs": [
    {
     "data": {
      "image/png": "[encoded data removed]",
      "text/plain": [
       "<Figure size 432x288 with 2 Axes>"
      ]
     },
     "metadata": {
      "needs_background": "light"
     },
     "output_type": "display_data"
    }
   ],
   "source": [
    "mag,phase,omega=ct.bode(G1)"
   ]
  },
  {
   "cell_type": "markdown",
   "id": "7deb5507",
   "metadata": {},
   "source": [
    "Það má líka teikna niðurstöðuna á línulegum kvarða og hér er fasinn í einingunni rad."
   ]
  },
  {
   "cell_type": "code",
   "execution_count": 96,
   "id": "01bb40c5",
   "metadata": {},
   "outputs": [
    {
     "data": {
      "image/png": "[encoded data removed]",
      "text/plain": [
       "<Figure size 432x288 with 2 Axes>"
      ]
     },
     "metadata": {
      "needs_background": "light"
     },
     "output_type": "display_data"
    }
   ],
   "source": [
    "fig, axs = plt.subplots(2, 1)\n",
    "axs[0].plot(omega[:600],mag[:600])\n",
    "axs[0].set_ylim(0, 7)\n",
    "axs[0].set_xlabel('rad/sek')\n",
    "axs[0].set_ylabel('mögnun')\n",
    "axs[0].grid(True)\n",
    "\n",
    "axs[1].plot(omega[:600],phase[:600])\n",
    "axs[1].set_ylim(-3, 0)\n",
    "axs[1].set_xlabel('rad/sek')\n",
    "axs[1].set_ylabel('fasi (rad)')\n",
    "axs[1].grid(True)\n",
    "\n",
    "fig.tight_layout()\n",
    "plt.show()"
   ]
  }
 ],
 "metadata": {
  "kernelspec": {
   "display_name": "Python 3 (ipykernel)",
   "language": "python",
   "name": "python3"
  },
  "language_info": {
   "codemirror_mode": {
    "name": "ipython",
    "version": 3
   },
   "file_extension": ".py",
   "mimetype": "text/x-python",
   "name": "python",
   "nbconvert_exporter": "python",
   "pygments_lexer": "ipython3",
   "version": "3.9.7"
  }
 },
 "nbformat": 4,
 "nbformat_minor": 5
}
