{
 "cells": [
  {
   "cell_type": "markdown",
   "id": "823bf75f",
   "metadata": {},
   "source": [
    "# IÐN303G Tæknileg kerfi - Forritunaræfing 4"
   ]
  },
  {
   "cell_type": "markdown",
   "id": "c9118e90",
   "metadata": {},
   "source": [
    "## Inngangur\n",
    "Markmiðið með þessari æfingu er að þjálfast í skrifa forrit sem hjálpar ykkur að skoða lausnir diffurjafna á myndrænan hátt og hvernig þær breytast fyrir mismunandi gildi á stikum jafnanna.\n",
    "\n",
    "Hér fyrir neðan er sýnt hvernig hægt er að skrifa forrit sem sýnir lausn á diffurjöfnu fyrstu raðar fyrir gefin gildi á stikum jöfnunnar og hægt að sjá hvaða áhrif það hefur að breyta þeim.\n",
    "\n",
    "Þið eigið að skrifa sambærilegt forrit fyrir diffurjöfnur annarrar raðar. Forritið þarf að geta greint á milli allra gerða af lausnum. Fyrir hverja lausn skal forritið skrifa út um hvaða gerð er að ræða og viðeigandi upplýsingar um rætur kennijöfnunnar ásamt mynd af lausninni. Þið megið \"handvirkt\" breyta tímaásnum þannig að hann verði viðeigandi í hvert sinn, t.d. þannig að þið sjáið hvort lausnin nái jafnvægi eða ekki. Prófið forritið með því að velja stuðla þannig að þið hafið séð allar gerðir af lausnum. Notið ykkur einnig við prófanirnar að þið vitið hvert jafnvægisgildið á að vera."
   ]
  },
  {
   "cell_type": "code",
   "execution_count": null,
   "id": "052f2843",
   "metadata": {},
   "outputs": [],
   "source": [
    "import numpy as np\n",
    "import matplotlib.pyplot as plt"
   ]
  },
  {
   "cell_type": "code",
   "execution_count": null,
   "id": "7c036816",
   "metadata": {},
   "outputs": [],
   "source": [
    "# Diffurjafna fyrstu raðar\n",
    "\n",
    "# y' + a * y = b * u\n",
    "# u einingarþrepafall\n",
    "# y(0) = 0\n",
    "\n",
    "# Stuðlar\n",
    "a = 0.05\n",
    "b = 0.5\n",
    "\n",
    "# Tímabil og upplausn (í sek.)\n",
    "duration = 300\n",
    "delta_t = 0.1\n",
    "\n",
    "# Tímaás\n",
    "t = np.linspace(0,duration, int(duration / delta_t))\n",
    "\n",
    "# Lausnin\n",
    "y = b / a * (1 - np.exp(-a * t))\n",
    "\n",
    "# Myndir\n",
    "fig, ax = plt.subplots()\n",
    "ax.set_xlabel('s')\n",
    "ax.set_ylabel('Gildi á y')\n",
    "ax.grid()\n",
    "\n",
    "solution, = ax.plot(t, y)\n",
    "\n",
    "plt.show()"
   ]
  },
  {
   "cell_type": "code",
   "execution_count": null,
   "id": "26998159",
   "metadata": {},
   "outputs": [],
   "source": [
    "# Diffurjafna annarrar raðar\n",
    "\n",
    "# y'' + a_1 * y' + a_2 * y = b * u\n",
    "# u einingarþrepafall\n",
    "# y(0) = y'(0) = 0\n",
    "\n"
   ]
  }
 ],
 "metadata": {
  "kernelspec": {
   "display_name": "Python 3 (ipykernel)",
   "language": "python",
   "name": "python3"
  },
  "language_info": {
   "codemirror_mode": {
    "name": "ipython",
    "version": 3
   },
   "file_extension": ".py",
   "mimetype": "text/x-python",
   "name": "python",
   "nbconvert_exporter": "python",
   "pygments_lexer": "ipython3",
   "version": "3.9.7"
  }
 },
 "nbformat": 4,
 "nbformat_minor": 5
}
