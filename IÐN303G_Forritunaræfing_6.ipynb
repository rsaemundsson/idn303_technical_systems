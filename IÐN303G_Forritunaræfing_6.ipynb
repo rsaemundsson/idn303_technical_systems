{
 "cells": [
  {
   "cell_type": "markdown",
   "id": "823bf75f",
   "metadata": {},
   "source": [
    "# IÐN303G Tæknileg kerfi - Forritunaræfing 6"
   ]
  },
  {
   "cell_type": "markdown",
   "id": "a2f9e108",
   "metadata": {},
   "source": [
    "## Inngangur\n",
    "Markmiðið með þessari æfingu er að reikna út fræðileg gildi úr verklegri æfingu með tanki og bera saman við mæld gildi. Einnig má nota tímann til að skoða eldri æfingar sem ekki hefur náðst að klára.\n",
    "\n",
    "Í forritunaræfingu 3 þá settum við upp ólínulegt líkan fyrir tank og útbjuggum línulegt líkan í kringum vinnupunkt."
   ]
  },
  {
   "cell_type": "code",
   "execution_count": 1,
   "id": "052f2843",
   "metadata": {},
   "outputs": [],
   "source": [
    "import numpy as np\n",
    "import matplotlib.pyplot as plt"
   ]
  },
  {
   "cell_type": "code",
   "execution_count": null,
   "id": "76c37693",
   "metadata": {},
   "outputs": [],
   "source": [
    "# Hér skrifið þið ykkar kóða. Byrjið á að skoða kóðann úr forritunaræfingu 3 og notið það sem við á.\n",
    "\n",
    "# A - bera saman reiknuð og mæld gildi fyrir jafnvægispunkt vatnshæðar\n",
    "\n",
    "# Mæld gildi\n",
    "\n",
    "# Ólínulegt líkan\n",
    "\n",
    "# Mat á skekkjum\n",
    "\n",
    "# B - bera saman reiknuð og mæld gildi fyrir áhrif breytinga á innflæði á vatnshæð\n",
    "\n",
    "# Mæld gildi\n",
    "\n",
    "# Ólínulegt líkan\n",
    "\n",
    "# Línulegt líkan fyrir breytingu frá vinnupunkti.\n",
    "\n",
    "# Mat á skekkjum"
   ]
  },
  {
   "cell_type": "code",
   "execution_count": null,
   "id": "dd68b4a8",
   "metadata": {},
   "outputs": [],
   "source": []
  }
 ],
 "metadata": {
  "kernelspec": {
   "display_name": "Python 3 (ipykernel)",
   "language": "python",
   "name": "python3"
  },
  "language_info": {
   "codemirror_mode": {
    "name": "ipython",
    "version": 3
   },
   "file_extension": ".py",
   "mimetype": "text/x-python",
   "name": "python",
   "nbconvert_exporter": "python",
   "pygments_lexer": "ipython3",
   "version": "3.9.7"
  }
 },
 "nbformat": 4,
 "nbformat_minor": 5
}
