{
 "cells": [
  {
   "cell_type": "markdown",
   "id": "823bf75f",
   "metadata": {},
   "source": [
    "# IÐN303G Tæknileg kerfi - Forritunaræfing 7"
   ]
  },
  {
   "cell_type": "markdown",
   "id": "7848e9d3",
   "metadata": {},
   "source": [
    "## Inngangur\n",
    "Markmiðið með þessari æfingu er að kynnast rafhreyflum og eiginleikum þeirra.\n",
    "\n",
    "Gefinn er rafhreyfill með eftirfarandi eiginleika:\n",
    "* $K_{\\tau}=0,046\\: Nm/A$\n",
    "* $K_f=0,046\\: V/rad/s$\n",
    "* $R=2,49\\: \\Omega$\n",
    "* $L=2,63\\: mH$\n",
    "* $I_m=0,000052\\: kg\\,m^2$\n",
    "* $c_m=0,01\\: Nm\\,s/rad$\n",
    "\n",
    "og gert er ráð fyrir að líkani af honum megi lýsa með eftirfarandi blokkriti.\n",
    "\n",
    "<div>\n",
    "<img src=\"https://github.com/rsaemundsson/idn303_technical_systems/blob/main/dc_motor_block_diagram.png?raw=true\", width=600>\n",
    "\n",
    "\n",
    "Sett er 24V spenna inn á hreyfilinn (þrepafall).\n",
    "\n",
    "Æfingin felst í eftirfarandi:\n",
    "\n",
    "1. Finnið svörun fyrir hornhraða ($\\omega$), vægi ($\\tau$) og straum í akkerisrásinni ($i_a$). Kannið áhrif þess að setja L=0.\n",
    "2. Finnið snúningsstöðu hreyfiássins ($\\theta$) og færslu eftir 5 sek ef ásinn hefur radíus upp á 3 cm.\n",
    "3. Finnið hversu mikið af því rafafli sem fer inn í hreyfilinn skilar sér í mekanísku afli (í jafnvægi)."
   ]
  },
  {
   "cell_type": "code",
   "execution_count": 119,
   "id": "76c37693",
   "metadata": {},
   "outputs": [],
   "source": [
    "# Hér skrifið þið ykkar kóða. Mögulega er skynsamlegt að skipta honum niður í nokkrar blokkir, \n",
    "# t.d. eina blokk pr lið.\n",
    "\n",
    "# Hlaða inn þeim forritasöfnum sem þarf að hlaða inn\n",
    "\n",
    "# Gildi fyrir hreyfil\n",
    "\n",
    "K_tau = 0.046\n",
    "K_f = 0.046\n",
    "R = 2.49\n",
    "L = 2.63 / 1000\n",
    "I_m = 0.000052\n",
    "c_m = 0.01\n",
    "\n",
    "# 1 - Finna svörun. Notið blokkrit af hreyfli til að finna þau yfirfærsluföll sem þarf.\n",
    "\n",
    "# 2 - Snúningsstaða og færsla. Nota tengsl milli hornhraða og snúningsstöðu (horn).\n",
    "\n",
    "# 3 - Afl. Nota jöfnur fyrir afl og niðurstöður úr 1."
   ]
  }
 ],
 "metadata": {
  "kernelspec": {
   "display_name": "Python 3 (ipykernel)",
   "language": "python",
   "name": "python3"
  },
  "language_info": {
   "codemirror_mode": {
    "name": "ipython",
    "version": 3
   },
   "file_extension": ".py",
   "mimetype": "text/x-python",
   "name": "python",
   "nbconvert_exporter": "python",
   "pygments_lexer": "ipython3",
   "version": "3.9.7"
  }
 },
 "nbformat": 4,
 "nbformat_minor": 5
}
