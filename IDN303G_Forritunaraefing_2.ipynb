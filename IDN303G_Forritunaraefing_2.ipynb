{
 "cells": [
  {
   "cell_type": "markdown",
   "id": "d7b552ba",
   "metadata": {},
   "source": [
    "# IÐN303G Tæknileg kerfi - Forritunaræfing 2"
   ]
  },
  {
   "cell_type": "markdown",
   "id": "729c7873",
   "metadata": {},
   "source": [
    "## Inngangur\n",
    "Markmiðið með þessari æfingu er að þjálfast í byggingu líkana af vélrænum og rafrænum kerfum.\n",
    "\n",
    "Æfingin er í tveimur hlutum. Í fyrri hlutanum eru byggð tvö líkön af fjöðrun bifreiðar og þau borin saman. Í seinni\n",
    "hlutanum er gert líkan af kerfi sem samanstendur af hljóðnema, magnara og hátalara og skoðað hvernig eiginleikar \n",
    "magnarans hafa áhrif á aflið sem skilar sér út í hátalarann. "
   ]
  },
  {
   "cell_type": "markdown",
   "id": "4743012d",
   "metadata": {},
   "source": [
    "## Fjöðrun bifreiðar\n",
    "Á eftirfarandi mynd, sem fengin er að láni hjá [Toyota](https://www.toyotaofnorthcharlotte.com/blog/a-closer-look-at-the-car-suspension-system/), má sjá fjaðrakerfi bifreiðar.\n",
    "\n",
    "<div>\n",
    "<img src=\"https://github.com/rsaemundsson/idn303_technical_systems/blob/main/ex2_supsension_system.png?raw=true\", width=600>\n",
    "\n",
    "\n",
    "Hægt er að byggja mismunandi flókin líkön af þessu kerfi með því að tengja saman dempara, fjaðrir og massa.\n",
    "\n",
    "Við byrjum á að skoða líkan sem við köllum viðmiðunarlíkan. Síðan eigið þið að útbúa einfaldað líkan og \n",
    "bera það saman við viðmiðunarlíkanið. Hversu mikið betra er viðmiðunarlíkanið? Hvenær skiptir það máli?"
   ]
  },
  {
   "cell_type": "markdown",
   "id": "db8eafdf",
   "metadata": {},
   "source": [
    "### Viðmiðunarlíkan\n",
    "Grunnbyggingu viðmiðunarlíkansins má sjá á eftirfarandi mynd.\n",
    "\n",
    "<div>\n",
    "<img src=\"https://github.com/rsaemundsson/idn303_technical_systems/blob/main/ex2_suspension_reference.png?raw=true\", width=600>\n",
    "\n",
    "Á myndinni er gert ráð fyrir að $m_1$ sé fjórðungur af massa\n",
    "bílsins og að undirvagn og hjólafesting tengist með hliðtengdum deyfi ($c$) og fjöður ($k_1$). Einnig er gert ráð \n",
    "fyrir að $m_2$ sé samanlagður massi hjóls og dekks og að dekkið fjaðri ($k_2$). Við höfum áhuga á að skoða tengslin\n",
    "á milli lóðréttrar færslu undirvagnsins/bílsins ($y$) og lóðréttrar færslu vegna ójafna í veginum. Gert er ráð fyrir\n",
    "að kerfið sé í stöðujafnvægi í upphafi (vinnupunktur) þannig að ekki þarf að taka tillit til þyngdarkrafts.\n",
    "\n",
    "Eftirfarandi mynd sýnir blokkmynd af kerfinu fyrir breytingar í kringum vinnupunkt.\n",
    "\n",
    "<div>\n",
    "<img src=\"https://github.com/rsaemundsson/idn303_technical_systems/blob/main/ex2_suspension_reference_block_diagram.png?raw=true\", width=600>\n",
    "                                                                        \n",
    "Með því að setja upp kraftajafnvægi fyrir massana fæst eftirfarandi líkan á ástandsformi (sjá dæmi 5.3.10 í hefti):\n",
    "\n",
    "\\begin{equation}\n",
    "A=\n",
    "\\begin{bmatrix}\n",
    "0 & 1 & 0 & 0\\\\\n",
    "-\\frac{k_1}{m_1} & -\\frac{c}{m_1} & \\frac{k_1}{m_1} & \\frac{c}{m_1}\\\\\n",
    "0 & 0 & 0 & 1\\\\\n",
    "\\frac{k_1}{m_2} & \\frac{c}{m_2} & -\\frac{k_1+k_2}{m_2} & -\\frac{c}{m_2}                                                                        \n",
    "\\end{bmatrix}\n",
    "\\end{equation}\n",
    "                                                         \n",
    "\\begin{equation}\n",
    "B=\n",
    "\\begin{bmatrix}\n",
    "0\\\\ 0 \\\\ 0 \\\\ \\frac{k_2}{m_2}                                                        \n",
    "\\end{bmatrix}\n",
    "\\end{equation}\n",
    "\n",
    "\\begin{equation}\n",
    "C=\n",
    "\\begin{bmatrix}\n",
    "1 & 0 & 0 & 0                                                        \n",
    "\\end{bmatrix}\n",
    "\\end{equation}\n",
    "\n",
    "\\begin{equation}\n",
    "D=0\n",
    "\\end{equation}\n",
    "\n",
    "þar sem ástandsbreyturnar eru:\n",
    "\\begin{equation}\n",
    "x=\n",
    "\\begin{bmatrix}\n",
    "y\\\\ \\dot{y} \\\\ z \\\\ \\dot{z}                                                        \n",
    "\\end{bmatrix}\n",
    "\\end{equation}\n",
    "                                                                        \n",
    "og\n",
    "                                                                        \n",
    "\\begin{equation}\n",
    "\\dot{x}=Ax+Bu\\\\\n",
    "y=Cx+Du                                                                        \n",
    "\\end{equation}               \n",
    "\n",
    "Við setjum upp og hermum líkanið með því að nota raunhæf gildi fyrir stika þess frá https://www.researchgate.net/publication/237899633_Pole_location_control_design_of_an_active_suspension_system_with_uncertain_parameters "
   ]
  },
  {
   "cell_type": "code",
   "execution_count": null,
   "id": "b7d059f6",
   "metadata": {},
   "outputs": [],
   "source": [
    "import numpy as np\n",
    "from scipy import signal\n",
    "import matplotlib.pyplot as plt"
   ]
  },
  {
   "cell_type": "code",
   "execution_count": 136,
   "id": "340f3dfe",
   "metadata": {
    "scrolled": true
   },
   "outputs": [
    {
     "data": {
      "image/png": "[encoded data removed]",
      "text/plain": [
       "<Figure size 432x288 with 1 Axes>"
      ]
     },
     "metadata": {
      "needs_background": "light"
     },
     "output_type": "display_data"
    }
   ],
   "source": [
    "# Parameter values\n",
    "\n",
    "mass_quarter_chassis_m_1 = 289\n",
    "spr_coeff_suspension_k_1 = 10000\n",
    "damp_coeff_suspension_c = 850\n",
    "mass_tire_m_2 = 29\n",
    "spr_coeff_tire_k_2 = 155900\n",
    "\n",
    "\n",
    "# State space model\n",
    "\n",
    "A = [[0,1,0,0], \n",
    "     np.divide([-spr_coeff_suspension_k_1,-damp_coeff_suspension_c,spr_coeff_suspension_k_1,damp_coeff_suspension_c],mass_quarter_chassis_m_1),\n",
    "     [0,0,0,1],\n",
    "     np.divide([spr_coeff_suspension_k_1,damp_coeff_suspension_c,-(spr_coeff_suspension_k_1 + spr_coeff_tire_k_2),-damp_coeff_suspension_c],mass_tire_m_2)\n",
    "    ]\n",
    "\n",
    "B = [[0],[0],[0],[spr_coeff_tire_k_2 / mass_tire_m_2]]\n",
    "C = [1,0,0,0]\n",
    "D = [0]\n",
    "\n",
    "# Simulation\n",
    "\n",
    "delta_t = 0.01 # sec\n",
    "duration = 5 # sec\n",
    "step_size = 0.01 # m\n",
    "N_simulation = int(duration / delta_t)\n",
    "\n",
    "sys = signal.StateSpace(A,B,C,D)\n",
    "\n",
    "t = np.linspace(0,duration,N_simulation)\n",
    "u = step_size * np.ones(N_simulation)\n",
    "tout, yout, xout = signal.lsim(sys,u,t)\n",
    "\n",
    "fig, ax = plt.subplots()\n",
    "ax.set_xlabel('s')\n",
    "ax.set_ylabel('Færsla frá jafnvægisstöðu [m]')\n",
    "\n",
    "ax.plot(tout, yout)\n",
    "\n",
    "plt.show()"
   ]
  },
  {
   "cell_type": "markdown",
   "id": "93507347",
   "metadata": {},
   "source": [
    "Í hermuninni skoðuðum við hvernig færslan á undirvagninum breytist þegar yfirborð vegarins hækkar skyndilega, þ.e.\n",
    "það er eins og bifreiðin fari yfir brún í malbikinu. Hvað gerist ef þið í staðin látið yfirborð vegarins breytast \n",
    "eins og sinus bylgja, t.d. $u=sin(15t)$? Hvað gerist þegar þið minnkið eða aukið sveiflutíma sinus bylgjunnar?"
   ]
  },
  {
   "cell_type": "markdown",
   "id": "66e90af9",
   "metadata": {},
   "source": [
    "### Einfaldara líkan\n",
    "Grunnbyggingu einfaldara líkansins má sjá á eftirfarandi mynd. \n",
    "\n",
    "<div>\n",
    "<img src=\"https://github.com/rsaemundsson/idn303_technical_systems/blob/main/ex2_suspension_simplified.png?raw=true\", width=600>\n",
    "\n",
    "Eins og áður er gert ráð fyrir að $m_1$ sé fjórðungur af massa\n",
    "bílsins og að undirvagn og hjólafesting tengist með hliðtengdum deyfi ($c$) og fjöður ($k_1$). Hins vegar er ekki\n",
    "tekið tillit til massa og fjöðrunar í hjólinu.\n",
    "\n",
    "Setjið upp og hermið einfaldaða líkanið."
   ]
  },
  {
   "cell_type": "code",
   "execution_count": null,
   "id": "739dade0",
   "metadata": {},
   "outputs": [],
   "source": []
  },
  {
   "cell_type": "markdown",
   "id": "8db19e07",
   "metadata": {},
   "source": [
    "### Samanburður\n",
    "\n",
    "Berið saman niðurstöðurnar einfalda líkansins við niðurstöður viðmiðunarlíkansins. Breytið kóðanum að ofan og skrifið \n",
    "nýjan kóða sem hjálpar ykkur að bera tölulega saman eftirfarandi þætti fyrir sama innmerki:\n",
    "    \n",
    "    - Jafnvægisgildi\n",
    "    - Viðbragðshraða\n",
    "    - Yfirskot\n",
    "    - Uppsöfnuð frávik í úttaki einfalda líkansins miðað við viðmiðunarlíkanið.\n",
    "\n",
    "Hversu mikið betra er viðmiðunarlíkanið?\n",
    "\n",
    "Hvaða stikar í líkaninu/kerfinu geta haft áhrif á það hversu mikið betra viðmiðunarlíkanið er?"
   ]
  },
  {
   "cell_type": "code",
   "execution_count": null,
   "id": "736d085f",
   "metadata": {},
   "outputs": [],
   "source": []
  },
  {
   "cell_type": "markdown",
   "id": "3e076baf",
   "metadata": {},
   "source": [
    "## Hljóðnemi, magnari og hátalari\n",
    "\n",
    "Á eftirfarandi mynd sést grunnuppbygging af líkani sem tengir saman hljóðnema, magnara og hátalara.\n",
    "\n",
    "<div>\n",
    "<img src=\"https://github.com/rsaemundsson/idn303_technical_systems/blob/main/ex2_amplifier.png?raw=true\", width=800>\n",
    "\n",
    "Hljóðneminn er settur fram sem spennulind ($u$) sem er tengd við viðnám ($R_m$). Hann tengist við magnara þar sem\n",
    "spennan ($u_{in}$) yfir innviðnámið ($R_{in}$) stýrir spennulind ($A_0u_{in}$) sem er tengd við útganginn í gegnum viðnám \n",
    "($R_{out}$). Magnarinn tengist að lokum við hátalarann sem er settur fram sem viðnám ($R_s$).\n",
    "\n",
    "Skrifið kóða sem hjálpar ykkur að skoða hvernig $v_{out}$ og aflið sem skilar sér til hátalarans er háð  \n",
    "stikum magnarans (gefið að við getum ekki breytt stikum hljóðnemans og hátalarans).\n",
    "\n",
    "Gerið ráð fyrir að $R_m=3k\\Omega$, $R_s=8\\Omega$, $u_1=3mV$ og $A_0=145$. \n",
    "\n",
    "Fyrir hvaða gildi á $R_{in}$ og $R_{out}$ er mestu afli skilað til hátalarans?"
   ]
  },
  {
   "cell_type": "code",
   "execution_count": null,
   "id": "98d3c767",
   "metadata": {},
   "outputs": [],
   "source": []
  }
 ],
 "metadata": {
  "kernelspec": {
   "display_name": "Python 3 (ipykernel)",
   "language": "python",
   "name": "python3"
  },
  "language_info": {
   "codemirror_mode": {
    "name": "ipython",
    "version": 3
   },
   "file_extension": ".py",
   "mimetype": "text/x-python",
   "name": "python",
   "nbconvert_exporter": "python",
   "pygments_lexer": "ipython3",
   "version": "3.9.7"
  }
 },
 "nbformat": 4,
 "nbformat_minor": 5
}
