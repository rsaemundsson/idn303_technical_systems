{
 "cells": [
  {
   "cell_type": "markdown",
   "id": "6e9351db",
   "metadata": {},
   "source": [
    "# IÐN303G Tæknileg kerfi - Forritunaræfing 1"
   ]
  },
  {
   "cell_type": "markdown",
   "id": "e26a8e19",
   "metadata": {},
   "source": [
    "## Inngangur\n",
    "Markmiðið með þessari æfingu er að sýna hvernig líkan er útbúið af tæknilegu kerfi og hönnuð stýring til \n",
    "að það hegði sér eins og ætlunin er.\n",
    "\n",
    "Kerfið sem um ræðir er vatnstankur. Vatn streymir inn í hann í gegnum ventil/loka og er dælt út úr honum aftur með \n",
    "aðstoð dælu. Markmiðið er að halda vatnshæðinni fastri við gefið gildi (sem hægt er að breyta) þrátt fyrir truflanir\n",
    "eða breytingar á útrennsli. Þetta er einfölduð útgáfa af kerfum sem gjarnan eru notuð í efnaiðnaði þegar efnum er \n",
    "blandað saman eða þau hituð. Í raunverulegum kerfum er oft verið stýra fleiri breytum en vatnshæðinni, \n",
    "t.d. efnasamsetningu eða hitastigi.\n",
    "\n",
    "Á eftirfarandi mynd má sjá lýsingu á grunneiningum kerfisins.\n",
    "<div>\n",
    "<img src=\"https://github.com/rsaemundsson/idn303_technical_systems/blob/main/water_tank_system.png?raw=true\" width=\"400px\">\n",
    "\n",
    "Breytan $u$ táknar vatnsflæði inn í tankinn og breytan $q$ táknar vatnsflæðið út úr tankinum. Báðar hafa \n",
    "eininguna $m^3/min$. Breytan $h$ táknar vatnshæðina og hefur eininguna $m$.\n",
    "\n",
    "Fyrsta skrefið í líkanagerðinni er að gera sér grein fyrir rökrænni uppbyggingu kerfisins og skipta því \n",
    "niður í einingar. Við höfum óskgildi um vatnshæðina ($r$) sem inntak í kerfið og vatnshæðina ($h$)\n",
    "sem úttak kerfisins. Einingarnar sem við höfum eru ***tankurinn*** sjálfur, ***ventill/loki*** sem ákvarðar innrennslið, \n",
    "***nemi*** sem mælir vatnshæðina og ***stýring*** sem ber óskgildið saman við mælingu frá nema og breytir stillingu \n",
    "á loka eftir því sem á þarf að halda. Dælunni sem stýrir útflæðinu úr tankinum er stjórnað fyrir utan kerfið, \n",
    "t.d. af starfsfólki. Af því leiðir að útflæðið er óháð því sem gerist í kerfinu og því einfaldast að líta á \n",
    "það sem inntak í kerfið. Vatnshæðin í tanknum, sem er úttakið, ræðst af mismun inn- og útflæðis.\n",
    "\n",
    "Að þessu sögðu teiknum við upp eftirfarandi mynd af rökrænni uppbyggingu kerfisins.\n",
    "\n",
    "<div>\n",
    "<img src=\"https://github.com/rsaemundsson/idn303_technical_systems/blob/main/water_tank_system_logical_simple.png?raw=true\" width=\"600px\">\n",
    "\n",
    "Að hvaða leyti er þetta líkt eða frábrugðið mynd af hefðbundnu véleindakerfi?\n",
    "\n",
    "Næsta skref er að setja fram grunnjöfnur fyrir hverja einingu. "
   ]
  },
  {
   "cell_type": "markdown",
   "id": "2ce91820",
   "metadata": {},
   "source": [
    "## Grunnjöfnur fyrir tank\n",
    "\n",
    "Eins og áður var minnst á þá er vantsborðið háð bæði inn- og útflæðinu. Ef innrennslið er meira en útrennslið \n",
    "þá hækkar vatnsborðið og lækkar ef útrennslið er meira en innrennslið. Það er vegna þess að\n",
    "mismunur á inn- og útrennsli er jafn breytingu í rúmmáli vatnsins í tanknum sem tákna má stærðfræðilega sem\n",
    "\n",
    "\\begin{equation} \\label{eq:modeling_tank_1}\n",
    "\\frac{dV}{dt}=\\frac{dh(t)}{dt}A=u(t)-q(t)\n",
    "\\end{equation}\n",
    "\n",
    "þegar flatarmál botnflatarins er $A$. Með því að tegra báðar hliðar fæst sambandið vatnshæðarinnar og\n",
    "inn- og útflæðis sem\n",
    "\n",
    "\\begin{equation} \\label{eq:modeling_tank_2}\n",
    "h(t)=\\frac{1}{A}\\int_{0}^{t}u(t)-q(t)dt\n",
    "\\end{equation}\n",
    "\n",
    "Við sjáum að kerfið er óstöðugt, þ.e. hæðin vex þar til tankurinn fyllist eða hæðin lækkar þar til tankurinn tæmist,\n",
    "nema ef innflæðið er jafnt og útflæðið. Það þýðir að jafnvel þó svo að útflæði sé sett jafnt og innflæði í \n",
    "upphafi þá geta breytingar/truflanir á inn- eða útflæði gert kerfið óstöðugt."
   ]
  },
  {
   "cell_type": "markdown",
   "id": "9c55d1f3",
   "metadata": {},
   "source": [
    "## Grunnjöfnur fyrir loka\n",
    "\n",
    "Við gerum ráð fyrir að lokinn sé línulegur, þ.e. að flæðið í gegnum hann sé í línulegu sambandi við stýrimerkið\n",
    "sem við notum til að stilla hversu mikið hann sé opinn. Við gerum líka ráð fyrir að við eðlilegar aðstæður, sem við\n",
    "vinnupunkt kerfisins, þá sé hann opinn til hálfs þannig að hægt er að bæði að minnka og auka flæðið. Við gerum hins\n",
    "ráð fyrir að það taki tíma fyrir lokann að opnast. Annars vegar stendur hann á sér sem þýðir að þrenging eða \n",
    "víkkun hefst ekki fyrr en eftir ákveðinn tíma ($t_0$). Hins vegar þá tekur tekur það tíma fyrir flæðið að ná\n",
    "nýju jafnvægisgildi eftir að þrenging eða víkkun hefur hafist. Þessu er hægt að lýsa með eftirfarandi jöfnu sem \n",
    "tengir saman innflæðið $u$ og stýrimerki lokans $u_v$\n",
    "\n",
    "\\begin{equation} \\label{eq:modeling_valve_1}\n",
    "T_v\\frac{du(t)}{dt}+u(t)=K_vu_v(t-t_0)\n",
    "\\end{equation}\n",
    "\n",
    "Stuðullinn $T_v$ er tímastuðull lokans og um hann gildir að eftir $T_v$ s þá hefur breytingin á $u$ \n",
    "(miðað við vinnupunktinn) sem orsakaðist af breytingu á $u_v$ náð 63% af jafnvægisgildinu sínu. Stuðullinn $K$\n",
    "segir hins vegar til um hvert þetta jafnvægisgildi er því hann lýsir mögnuninni sem verður á milli $u_v$ og $u$\n",
    "þegar jafnvægi er náð, þ.e. hversu mikið breytist $u$ fyrir hverja einingu af breytingu í $u_v$. Strangt til tekið\n",
    "tekur það óendanlega langan tíma að ná jafnvægi, en venjulega er notuð sú þumalputtaregla að kerfi sé komið í \n",
    "jafnvægi þegar það hefur náð 98% af jafnvægisgildinu sem er eftir fjórfalt gildi á tímastuðlinum, sem er $4T_v$\n",
    "í tilfelli lokans.\n",
    "\n",
    "Með einfaldri hermun getum við skoðað hvernig lokinn hegðar sér. Við nýtum okkur að afleiða $f(t)$ er skilgreind sem\n",
    "\n",
    "\\begin{equation} \\label{eq:derivation_1}\n",
    "f'(t)=\\lim_{\\Delta t \\to 0}\\frac{f(t+\\Delta t)-f(t)}{\\Delta t}\n",
    "\\end{equation}\n",
    "\n",
    "og ef við veljum $\\Delta t$ nægilega lítið þá getum við skrifað\n",
    "    \n",
    "\\begin{equation} \\label{eq:derivation_2}\n",
    "f(t+\\Delta t)=f(t)+{\\Delta t}f'(t)\n",
    "\\end{equation}\n",
    "\n",
    "Ef við köllum upphafstíma hermunarinnar $t_0$ þá getum við reiknað næsta gildi $t_1=t_0+\\Delta t$ samkvæmt\n",
    "\n",
    "\\begin{equation} \\label{eq:derivation_3}\n",
    "f(t_1)=f(t_0)+{\\Delta t}f'(t_0)\n",
    "\\end{equation}\n",
    "\n",
    "og svo koll af kolli eins lengi og við kærum okkur um. Hér á eftir er kóði sem sýnir hegðun lokans ef \n",
    "$T_v=0.5$ min, $K_v=1$, $t_0=0.1$ min og að $u_v$ breytist um 0.1 V frá vinnupunkti. Við gerum ráð fyrir að\n",
    "stýrimerkið sé rafspenna og að einingin á $K_v$ sé $m^3/min/V$ . Fyrir hermunina gildir að $\\Delta t = 1s$ og við viljum herma líkanið í 5 mín. \n",
    "Keyrið kóðan og skoðið niðurstöðurnar."
   ]
  },
  {
   "cell_type": "code",
   "execution_count": 193,
   "id": "3e4d4799",
   "metadata": {},
   "outputs": [
    {
     "data": {
      "image/png": "[encoded data removed]",
      "text/plain": [
       "<Figure size 432x288 with 2 Axes>"
      ]
     },
     "metadata": {
      "needs_background": "light"
     },
     "output_type": "display_data"
    }
   ],
   "source": [
    "import numpy as np\n",
    "import matplotlib.pyplot as plt\n",
    "\n",
    "# Loki\n",
    "valve_time_constant_T_v = 0.5 * 60\n",
    "valve_gain_K_v = 1 / 60\n",
    "valve_delay_t_0 = 0.1 * 60\n",
    "\n",
    "# Hermun\n",
    "delta_t = 1\n",
    "T_simulation = 5 * 60\n",
    "N_simulation = int( T_simulation / delta_t )\n",
    "\n",
    "n_end_delay = int(valve_delay_t_0 / delta_t)\n",
    "\n",
    "d_valve_in_u_v =np.ones(N_simulation) * 0.1\n",
    "d_valve_out_u = np.zeros(N_simulation)\n",
    "\n",
    "for t in range(n_end_delay + 1,N_simulation):\n",
    "    d_valve_out_u[t] = d_valve_out_u[t-1] + delta_t * (valve_gain_K_v * d_valve_in_u_v[t-1-n_end_delay] - d_valve_out_u[t-1])/valve_time_constant_T_v\n",
    "\n",
    "# Myndir\n",
    "time = np.arange(N_simulation) * delta_t\n",
    "\n",
    "fig, ax1 = plt.subplots()\n",
    "ax1.set_xlabel('s')\n",
    "ax1.set_ylabel('Frávik frá vinnupunkti [m^3/min]')\n",
    "ax2=ax1.twinx()\n",
    "ax2.set_ylabel('Frávik frá vinnupunkti [V]')\n",
    "\n",
    "outflow_plot, = ax1.plot(time, 60 * d_valve_out_u,'C1')\n",
    "inflow_plot, = ax2.plot(time, d_valve_in_u_v)\n",
    "\n",
    "ax1.legend([outflow_plot, inflow_plot],['Útrennsli', 'Stýrimerki'])\n",
    "\n",
    "# Gildi við einn tímastuðul og fjóra tímastuðla\n",
    "ax1.axvline(valve_delay_t_0 + valve_time_constant_T_v, linestyle='--',color='gray')\n",
    "ax1.axhline(0.63 * 60 * d_valve_in_u_v[1] * valve_gain_K_v, linestyle='--', color='gray')\n",
    "\n",
    "ax1.axvline(valve_delay_t_0 + 4 * valve_time_constant_T_v, linestyle='--',color='gray')\n",
    "ax1.axhline(0.98 * 60 * d_valve_in_u_v[1] * valve_gain_K_v, linestyle='--', color='gray')\n",
    "\n",
    "plt.show()"
   ]
  },
  {
   "cell_type": "markdown",
   "id": "74647eef",
   "metadata": {},
   "source": [
    "Prófið að breyta einhverjum breytum í hermuninni, t.d. tímastuðlinum, mögnuninni eða seinkuninni. Hvað gerist ef þið stækkið $\\Delta t$ verulega? "
   ]
  },
  {
   "cell_type": "markdown",
   "id": "0a1a4f7a",
   "metadata": {},
   "source": [
    "## Grunnjöfnur fyrir nema\n",
    "\n",
    "Við gerum ráð fyrir að neminn sé mjög nákvæmur og að breytingar í vatnshæð skili sér mjög hratt á úttak nemans,\n",
    "a.m.k. í samanburði við aðra hluta kerfisins. Þess vegna gerum við ráð að sambandið sé línulegt og að jafnvægi sé\n",
    "náð um leið og vatnshæðin breytist eða að\n",
    "\n",
    "\\begin{equation} \\label{eq:modeling_sensor_1}\n",
    "h_s(t)=K_sh(t)\n",
    "\\end{equation}\n",
    "\n",
    "Við gerum líka ráð fyrir að úttakið frá nemanum sé rafspenna með eininguna V. Stuðullinn $K_s$ lýsir því umbreytingu\n",
    "frá hæð sem er mæld í m yfir í rafspennu sem er mæld í V."
   ]
  },
  {
   "cell_type": "markdown",
   "id": "46373c6b",
   "metadata": {},
   "source": [
    "## Grunnjöfnur fyrir stýringu\n",
    "\n",
    "Við ætlum að bera saman tvær tegundir af stýringum. Annars vegar svokallaða P stýringu og hins vegar svokallaða PI\n",
    "stýringu. Jafnan fyrir P stýringuna er\n",
    "\n",
    "\\begin{equation} \\label{eq:modeling_P}\n",
    "u_v(t)=K_Pe(t)=K_P(r(t)-h_s(t))\n",
    "\\end{equation}\n",
    "\n",
    "þar sem $K_P$ er fasti, $e$ er mismunurinn á óskgildinu $r$ og úttaki nemans $h_s$ og $u_v$ er stýrimerki fyrir lokann. \n",
    "Jafnan fyrir PI stýringuna er hins vegar\n",
    "\n",
    "\\begin{equation} \\label{eq:modeling_PI}\n",
    "u_v(t)=K_Pe(t) + K_I\\int_{0}^{t}e(t)dt\n",
    "\\end{equation}"
   ]
  },
  {
   "cell_type": "markdown",
   "id": "825eb3e5",
   "metadata": {},
   "source": [
    "## Kerfið í heild\n",
    "Nú þegar við erum komin með grunnjöfnur fyrir allar einingarnar er kominn tími til að setja þar saman í eitt\n",
    "hermilíkan sem við getum notað til að greina hegðun kerfisins og hannað stýringu sem tryggir að það nái\n",
    "markmiðum sínum.\n",
    "\n",
    "Við byrjum fyrst með P-stýringu og hvernig kerfið bregst við þegar útflæði eykst um 0.5 $m^3/min$ miðað við\n",
    "vinnupunkt og $K_P=2$"
   ]
  },
  {
   "cell_type": "code",
   "execution_count": 219,
   "id": "c0b4c489",
   "metadata": {},
   "outputs": [
    {
     "data": {
      "image/png": "[encoded data removed]",
      "text/plain": [
       "<Figure size 432x288 with 1 Axes>"
      ]
     },
     "metadata": {
      "needs_background": "light"
     },
     "output_type": "display_data"
    }
   ],
   "source": [
    "# Hermun\n",
    "delta_t = 1\n",
    "T_simulation = 20 * 60\n",
    "N_simulation = int( T_simulation / delta_t )\n",
    "\n",
    "# Tankur\n",
    "area_bottom_A = 1\n",
    "h_eq = 1\n",
    "u_eq = 1\n",
    "q_eq = 1\n",
    "\n",
    "d_height_h = np.zeros(N_simulation)\n",
    "d_height_h[0] = 0\n",
    "d_outflow_q = 0.1 / 60\n",
    "\n",
    "# Loki\n",
    "valve_time_constant_T_v = 0.5 * 60\n",
    "valve_gain_K_v = 1 / 60\n",
    "valve_delay_t_0 = 0.1 * 60\n",
    "\n",
    "n_end_delay = int(valve_delay_t_0 / delta_t)\n",
    "\n",
    "d_valve_in_u_v =np.zeros(N_simulation)\n",
    "d_valve_out_u = np.zeros(N_simulation)\n",
    "\n",
    "# Nemi\n",
    "sensor_gain_K_s = 0.5\n",
    "\n",
    "d_sensor_out_h_s = np.zeros(N_simulation)\n",
    "\n",
    "# Stýring\n",
    "controller_K_P = 2\n",
    "controller_K_I = 0\n",
    "\n",
    "set_value_r = np.zeros(N_simulation)\n",
    "error_e = np.zeros(N_simulation)\n",
    "\n",
    "sum_error = 0\n",
    "\n",
    "for t in range(n_end_delay,N_simulation):   \n",
    "    error_e[t-1] = set_value_r[t-1] - d_sensor_out_h_s[t-1]\n",
    "    sum_error = sum_error + delta_t * error_e[t-1] \n",
    "    d_valve_in_u_v[t-1] = controller_K_P * error_e[t-1] + controller_K_I * sum_error\n",
    "    d_valve_out_u[t] = d_valve_out_u[t-1] + delta_t * (valve_gain_K_v * d_valve_in_u_v[t-1-n_end_delay] - d_valve_out_u[t-1])/valve_time_constant_T_v\n",
    "    d_height_h[t] = d_height_h[t-1] + delta_t * (d_valve_out_u[t-1] - d_outflow_q) / area_bottom_A\n",
    "    d_sensor_out_h_s[t] = sensor_gain_K_s * d_height_h[t]\n",
    "\n",
    "error_e[N_simulation-1] = set_value_r[N_simulation-1] - d_sensor_out_h_s[N_simulation-1]\n",
    "\n",
    "# Myndir\n",
    "\n",
    "time = np.arange(N_simulation) * delta_t\n",
    "\n",
    "fig, ax = plt.subplots()\n",
    "ax.set_xlabel('s')\n",
    "ax.set_ylabel('Vatnshæð [m]')\n",
    "\n",
    "ax.plot(time,d_height_h + h_eq)\n",
    "\n",
    "plt.show()"
   ]
  },
  {
   "cell_type": "markdown",
   "id": "b8a7a4eb",
   "metadata": {},
   "source": [
    "Hvað er það sem gerist? Hvernig gengur okkur að ná markmiðum okkar um að halda vatnshæðinni stöðugri? Getum við náð\n",
    "betri árangri með að breyta $K_P$? Hvaða áhrif hefur meiri eða minni seinkun í lokanum?"
   ]
  },
  {
   "cell_type": "markdown",
   "id": "a9de850f",
   "metadata": {},
   "source": [
    "Prófið nú að breyta stýringunni í PI stýringu með $K_P=2$ og $K_I=0.02$. Hversu vel gengur okkur núna að ná markmiðum okkar? Getið þið náð betri árangri með að breyta $K_P$ og $K_I$?\n",
    "\n",
    "Hvernig getið þið metið árangur P og PI stýringanna á tölulegan hátt og borið saman?\n",
    "\n",
    "Prófið að breyta kóðanum hér fyrir ofan (eða skrifa nýjan hér fyrir neðan) þannig að hægt sé að bera saman árangur P og PI stýringanna á tölulegan hátt.\n",
    "\n",
    "Hvað gerist tökum í burtu breytinguna á útflæðinu en í staðinn breytum óskgildinu þannig að við viljum að vatnshæðin sé stöðug í 1.2 m? Prófið að breyta kóðanum (eða skrifa nýjan hér fyrir neðan) til að skoða það bæði með P stýringu og PI stýringu. Er einhver munur á viðbrögðum kerfisins miðað við viðbrögðin við truflun á útflæðinu?"
   ]
  },
  {
   "cell_type": "code",
   "execution_count": null,
   "id": "b202dffd",
   "metadata": {},
   "outputs": [],
   "source": []
  }
 ],
 "metadata": {
  "kernelspec": {
   "display_name": "Python 3 (ipykernel)",
   "language": "python",
   "name": "python3"
  },
  "language_info": {
   "codemirror_mode": {
    "name": "ipython",
    "version": 3
   },
   "file_extension": ".py",
   "mimetype": "text/x-python",
   "name": "python",
   "nbconvert_exporter": "python",
   "pygments_lexer": "ipython3",
   "version": "3.9.7"
  }
 },
 "nbformat": 4,
 "nbformat_minor": 5
}
